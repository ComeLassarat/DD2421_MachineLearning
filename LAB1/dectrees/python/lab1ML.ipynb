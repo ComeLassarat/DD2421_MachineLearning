{
 "cells": [
  {
   "cell_type": "markdown",
   "metadata": {},
   "source": [
    "LAB 1 MACHINE LEARNING"
   ]
  },
  {
   "cell_type": "code",
   "execution_count": 2,
   "metadata": {},
   "outputs": [],
   "source": [
    "import monkdata as m\n",
    "from dtree import *\n",
    "import math\n",
    "from drawtree_qt5 import *\n",
    "import numpy as np\n",
    "import matplotlib.pyplot as plt\n",
    "import random"
   ]
  },
  {
   "cell_type": "markdown",
   "metadata": {},
   "source": [
    "Asignment 0\n",
    "\n",
    "MONK-2 is the dataset which is the most difficult for a decision algorithm to learn: its condition may required a very large dataset to ensure all possibilities are represented. Also, the tree may be very complicated to build whereas the other trees are more explicit."
   ]
  },
  {
   "cell_type": "markdown",
   "metadata": {},
   "source": [
    "Assignment 1\n",
    "\n"
   ]
  },
  {
   "cell_type": "code",
   "execution_count": 93,
   "metadata": {},
   "outputs": [
    {
     "name": "stdout",
     "output_type": "stream",
     "text": [
      "Entropy of MONK-1 is:\n",
      "1.0\n",
      "---------------------\n",
      "Entropy of MONK-2 is\n",
      "0.957117428264771\n",
      "---------------------\n",
      "Entropy of MONK-3 is\n",
      "0.999806132804711\n"
     ]
    }
   ],
   "source": [
    "def compute_entropy(dataset):\n",
    "    l = len(dataset)\n",
    "    class0 = 0\n",
    "    class1 = 0\n",
    "    for i in range(l):\n",
    "        if dataset[i].positive:\n",
    "            class1 += 1\n",
    "        else:\n",
    "            class0 += 1\n",
    "    \n",
    "    prop0 = class0/l\n",
    "    prop1 = class1/l\n",
    "\n",
    "    return -prop0*math.log2(prop0) - prop1*math.log2(prop1)\n",
    "\n",
    "\n",
    "\n",
    "print('Entropy of MONK-1 is:')\n",
    "print(compute_entropy(m.monk1))\n",
    "#print(entropy(m.monk1))\n",
    "print('---------------------')\n",
    "print('Entropy of MONK-2 is')  \n",
    "print(compute_entropy(m.monk2))\n",
    "#print(entropy(m.monk2))\n",
    "print('---------------------')\n",
    "print('Entropy of MONK-3 is') \n",
    "print(compute_entropy(m.monk3))\n",
    "#print(entropy(m.monk3))"
   ]
  },
  {
   "cell_type": "markdown",
   "metadata": {},
   "source": [
    "Assignment 2\n",
    "\n",
    "Entropy measures the uncertainty of a dataset. Thus, an uniform distribution will have a higher entropy than a non-uniform distribution."
   ]
  },
  {
   "cell_type": "code",
   "execution_count": 4,
   "metadata": {},
   "outputs": [
    {
     "name": "stdout",
     "output_type": "stream",
     "text": [
      "Entropy of the uniform distribution is:\n",
      "1.4569035442162859\n",
      "Entropy of the not uniform distribution is:\n",
      "0.5823812935032302\n"
     ]
    }
   ],
   "source": [
    "uni = np.random.uniform(0,3,100)\n",
    "not_uni = [0,0,0,0,0,0,0,0,0,0,0,0,0,0,0,0,0,0,0,0,0,1,1,2]\n",
    "\n",
    "\n",
    "def entropy_uniform(dataset):\n",
    "    l = len(dataset)\n",
    "    class0 = 0\n",
    "    class1 = 0\n",
    "    class2 = 0\n",
    "    for i in range(l):\n",
    "        if dataset[i] < 1:\n",
    "            class0+=1\n",
    "        if dataset[i] < 2 and dataset[i] >= 1:\n",
    "            class1+=1\n",
    "        else:\n",
    "            class2+=1\n",
    "    \n",
    "    prop0 = class0/l\n",
    "    prop1 = class1/l\n",
    "    prop2 = class2/l\n",
    "\n",
    "    return -prop0*math.log2(prop0) - prop1*math.log2(prop1) - prop2*math.log2(prop2)\n",
    "\n",
    "print('Entropy of the uniform distribution is:')\n",
    "print(entropy_uniform(uni))\n",
    "print('Entropy of the not uniform distribution is:')\n",
    "print(entropy_uniform(not_uni))\n"
   ]
  },
  {
   "cell_type": "markdown",
   "metadata": {},
   "source": [
    "Assignment 3"
   ]
  },
  {
   "cell_type": "code",
   "execution_count": 102,
   "metadata": {},
   "outputs": [
    {
     "name": "stdout",
     "output_type": "stream",
     "text": [
      "FOR MONK-1:\n",
      "A1 :  0.07527255560831925\n",
      "A2 :  0.005838429962909286\n",
      "A3 :  0.00470756661729721\n",
      "A4 :  0.02631169650768228\n",
      "A5 :  0.28703074971578435\n",
      "A6 :  0.0007578557158638421\n",
      "----------------------\n",
      "FOR MONK-2:\n",
      "A1 :  0.0037561773775118823\n",
      "A2 :  0.0024584986660830532\n",
      "A3 :  0.0010561477158920196\n",
      "A4 :  0.015664247292643818\n",
      "A5 :  0.01727717693791797\n",
      "A6 :  0.006247622236881467\n",
      "----------------------\n",
      "FOR MONK-3:\n",
      "A1 :  0.007120868396071844\n",
      "A2 :  0.29373617350838865\n",
      "A3 :  0.0008311140445336207\n",
      "A4 :  0.002891817288654397\n",
      "A5 :  0.25591172461972755\n",
      "A6 :  0.007077026074097326\n",
      "----------------------\n"
     ]
    }
   ],
   "source": [
    "the_dataset = [m.monk1, m.monk2, m.monk3]\n",
    "\n",
    "print('FOR MONK-1:')\n",
    "for i in range(len(m.attributes)):\n",
    "    print(m.attributes[i], ': ', averageGain(the_dataset[0], m.attributes[i]))\n",
    "\n",
    "print('----------------------')\n",
    "\n",
    "print('FOR MONK-2:')\n",
    "for i in range(len(m.attributes)):\n",
    "    print(m.attributes[i], ': ', averageGain(the_dataset[1], m.attributes[i]))\n",
    "\n",
    "print('----------------------')\n",
    "\n",
    "print('FOR MONK-3:')\n",
    "for i in range(len(m.attributes)):\n",
    "    print(m.attributes[i], ': ', averageGain(the_dataset[2], m.attributes[i]))\n",
    "\n",
    "print('----------------------')\n"
   ]
  },
  {
   "cell_type": "markdown",
   "metadata": {},
   "source": [
    "For splitting the examples at the root node, we choose the maximum attribute because it is the one that gives the most information. \n",
    "\n",
    "MONK-1: a5\n",
    "\n",
    "MONK-2: a5\n",
    "\n",
    "MONK-3: a2"
   ]
  },
  {
   "cell_type": "markdown",
   "metadata": {},
   "source": [
    "Assignment 4\n",
    "\n",
    "When the information gain is maximized, the entropy of the subsets are minimized.\n",
    "After the split, the resulting entropy are minimized which means that the data set got more predictibled: this is the goal of the decision tree."
   ]
  },
  {
   "cell_type": "markdown",
   "metadata": {},
   "source": [
    "Assignment 5\n",
    "\n",
    "Then we test all the attributes except the one that got just splitted (for MONK-1 for example, it is a5)"
   ]
  },
  {
   "cell_type": "code",
   "execution_count": 4,
   "metadata": {},
   "outputs": [
    {
     "name": "stdout",
     "output_type": "stream",
     "text": [
      "FOR value = 1:\n",
      "A1 :  0.0\n",
      "A2 :  0.0\n",
      "A3 :  0.0\n",
      "A4 :  0.0\n",
      "A5 :  0.0\n",
      "A6 :  0.0\n",
      "----------------------\n",
      "FOR value = 2:\n",
      "A1 :  0.040216841609413634\n",
      "A2 :  0.015063475072186083\n",
      "A3 :  0.03727262736015946\n",
      "A4 :  0.04889220262952931\n",
      "A5 :  0.0\n",
      "A6 :  0.025807284723902146\n",
      "----------------------\n",
      "FOR value = 3:\n",
      "A1 :  0.03305510013455182\n",
      "A2 :  0.002197183539100922\n",
      "A3 :  0.017982293842278896\n",
      "A4 :  0.01912275517747053\n",
      "A5 :  0.0\n",
      "A6 :  0.04510853782483648\n",
      "----------------------\n",
      "FOR value = 4:\n",
      "A1 :  0.20629074641530198\n",
      "A2 :  0.033898395077640586\n",
      "A3 :  0.025906145434984817\n",
      "A4 :  0.07593290844153944\n",
      "A5 :  0.0\n",
      "A6 :  0.0033239629631565126\n"
     ]
    }
   ],
   "source": [
    "#MONK-1\n",
    "attribute_depth_1 = m.attributes[4]\n",
    "values_depth_1 = attribute_depth_1.values\n",
    "data_split_1=[]\n",
    "for i in range(len(values_depth_1)):\n",
    "    data_split_1.append(select(m.monk1, attribute_depth_1, values_depth_1[i]))  #len(data_split_1) = 4 (a5 has 4 values)\n",
    "\n",
    "\n",
    "print('FOR value = 1:')\n",
    "for i in range(6):\n",
    "    print(m.attributes[i], ': ',averageGain(data_split_1[0], m.attributes[i]))\n",
    "\n",
    "print('----------------------')\n",
    "\n",
    "print('FOR value = 2:')\n",
    "for i in range(6):\n",
    "    print(m.attributes[i], ': ',averageGain(data_split_1[1], m.attributes[i]))\n",
    "\n",
    "print('----------------------')\n",
    "\n",
    "print('FOR value = 3:')\n",
    "for i in range(6):\n",
    "    print(m.attributes[i], ': ',averageGain(data_split_1[2], m.attributes[i]))\n",
    "\n",
    "print('----------------------')\n",
    "\n",
    "print('FOR value = 4:')\n",
    "for i in range(6):\n",
    "    print(m.attributes[i], ': ',averageGain(data_split_1[3], m.attributes[i]))\n",
    "\n",
    "\n",
    "#a5 should not be tested since it was splitted"
   ]
  },
  {
   "cell_type": "markdown",
   "metadata": {},
   "source": [
    "So we split in the following way:\n",
    "\n",
    "Value = 1: end leaf\n",
    "\n",
    "Value = 2: split A4\n",
    "\n",
    "Value = 3: split A6\n",
    "\n",
    "Value = 4: split A1\n"
   ]
  },
  {
   "cell_type": "code",
   "execution_count": 16,
   "metadata": {},
   "outputs": [
    {
     "name": "stdout",
     "output_type": "stream",
     "text": [
      "End Leaf for value = 1\n",
      "True\n",
      "------------------------\n",
      "For value = 2:\n",
      "A4\n",
      "False\n",
      "False\n",
      "False\n",
      "------------------------\n",
      "For value = 3:\n",
      "A6\n",
      "False\n",
      "False\n",
      "------------------------\n",
      "For value = 4:\n",
      "A1\n",
      "False\n",
      "False\n",
      "True\n"
     ]
    }
   ],
   "source": [
    "print('End Leaf for value = 1')\n",
    "print(mostCommon(data_split_1[0]))\n",
    "\n",
    "print('------------------------')\n",
    "\n",
    "print('For value = 2:')\n",
    "attribute_depth_2_1 = m.attributes[3]\n",
    "print(m.attributes[3])\n",
    "values_depth_2_1 = attribute_depth_2_1.values\n",
    "\n",
    "data_split_2_1=[]\n",
    "for i in range(len(values_depth_2_1)):\n",
    "    data_split_2_1.append(select(data_split_1[1], attribute_depth_2_1, values_depth_2_1[i])) \n",
    "\n",
    "for i in range(len(data_split_2_1)):\n",
    "    print(mostCommon(data_split_2_1[i]))\n",
    "\n",
    "print('------------------------')\n",
    "\n",
    "print('For value = 3:')\n",
    "attribute_depth_2_2 = m.attributes[5]\n",
    "print(m.attributes[5])\n",
    "values_depth_2_2 = attribute_depth_2_2.values\n",
    "data_split_2_2=[]\n",
    "for i in range(len(values_depth_2_2)):\n",
    "    data_split_2_2.append(select(data_split_1[2], attribute_depth_2_2, values_depth_2_2[i]))  \n",
    "\n",
    "for i in range(len(data_split_2_2)):\n",
    "    print(mostCommon(data_split_2_2[i]))\n",
    "\n",
    "\n",
    "print('------------------------')\n",
    "\n",
    "print('For value = 4:')\n",
    "attribute_depth_2_3 = m.attributes[0]\n",
    "print(m.attributes[0])\n",
    "values_depth_2_3 = attribute_depth_2_3.values\n",
    "data_split_2_3=[]\n",
    "for i in range(len(values_depth_2_3)):\n",
    "    data_split_2_3.append(select(data_split_1[3], attribute_depth_2_3, values_depth_2_3[i]))  \n",
    "\n",
    "for i in range(len(data_split_2_3)):\n",
    "    print(mostCommon(data_split_2_3[i]))\n",
    "\n",
    "\n",
    "#drawTree(buildTree(m.monk1,m.attributes,2))\n"
   ]
  },
  {
   "cell_type": "code",
   "execution_count": 4,
   "metadata": {},
   "outputs": [
    {
     "name": "stdout",
     "output_type": "stream",
     "text": [
      "MONK-1\n",
      "E_train:  1.0\n",
      "E_test:  0.8287037037037037\n",
      "--------------------------------------------------\n",
      "MONK-2\n",
      "E_train  1.0\n",
      "E_test:  0.6921296296296297\n",
      "--------------------------------------------------\n",
      "MONK-3\n",
      "E_train:  1.0\n",
      "E_test:  0.9444444444444444\n"
     ]
    }
   ],
   "source": [
    "print('MONK-1')\n",
    "\n",
    "tree1 = buildTree(m.monk1, m.attributes)\n",
    "\n",
    "\n",
    "print('E_train: ', check(tree1, m.monk1))\n",
    "print('E_test: ', check(tree1, m.monk1test))\n",
    "\n",
    "print('--------------------------------------------------')\n",
    "\n",
    "print('MONK-2')\n",
    "\n",
    "tree2 = buildTree(m.monk2, m.attributes)\n",
    "print('E_train ', check(tree2, m.monk2))\n",
    "print('E_test: ', check(tree2, m.monk2test))\n",
    "\n",
    "\n",
    "print('--------------------------------------------------')\n",
    "\n",
    "print('MONK-3')\n",
    "\n",
    "tree3 = buildTree(m.monk3, m.attributes)\n",
    "print('E_train: ', check(tree3, m.monk3))\n",
    "print('E_test: ', check(tree3, m.monk3test))\n",
    "\n",
    "\n",
    "\n",
    "def complete_pruning(tree, testdata):\n",
    "    best_tree = tree\n",
    "    performance = 0\n",
    "    new_performance = check(tree,testdata)\n",
    "    while performance - new_performance <0:\n",
    "        performance = new_performance\n",
    "        the_trees = allPruned(best_tree)\n",
    "        best_score = 0\n",
    "        for elt in the_trees:\n",
    "            score = check(elt, testdata)\n",
    "            if score > best_score:\n",
    "                best_score = score\n",
    "                best_tree = elt\n",
    "        new_performance = best_score\n",
    "\n",
    "    return best_tree\n",
    "\n",
    "def partition(data, fraction):\n",
    "    ldata = list(data)\n",
    "    random.shuffle(ldata)\n",
    "    breakPoint = int(len(ldata) * fraction)\n",
    "    return ldata[:breakPoint], ldata[breakPoint:]\n",
    "\n"
   ]
  },
  {
   "cell_type": "markdown",
   "metadata": {},
   "source": [
    "As expected, the accuracy on the training dataset is 1.\n",
    "As expected, the accuracy for MONK-2 test dataset is the lowest."
   ]
  },
  {
   "cell_type": "markdown",
   "metadata": {},
   "source": [
    "Assignment 6\n",
    "\n",
    "The usual process of building a decision tree is likely to overfit the data because the resulting tree might be too complex: small bias and high variance.\n",
    "Pruning allows the building of a simpler tree, which will decrease the variance at the cost of little bias. This will make the classification easier to understand."
   ]
  },
  {
   "cell_type": "markdown",
   "metadata": {},
   "source": [
    "Assignemnt 7"
   ]
  },
  {
   "cell_type": "code",
   "execution_count": 5,
   "metadata": {},
   "outputs": [
    {
     "data": {
      "image/png": "[encoded data removed]",
      "text/plain": [
       "<Figure size 432x288 with 1 Axes>"
      ]
     },
     "metadata": {
      "needs_background": "light"
     },
     "output_type": "display_data"
    },
    {
     "data": {
      "image/png": "[encoded data removed]",
      "text/plain": [
       "<Figure size 432x288 with 1 Axes>"
      ]
     },
     "metadata": {
      "needs_background": "light"
     },
     "output_type": "display_data"
    }
   ],
   "source": [
    "fraction = [0.3, 0.4, 0.5, 0.6, 0.7, 0.8, 0.9] #of training data\n",
    "iterations = 200\n",
    "the_dataset = [m.monk1, m.monk2, m.monk3]\n",
    "the_dataset_test = [m.monk1test, m.monk2test, m.monk3test]\n",
    "\n",
    "def error(data, data_test, iterations, fraction):\n",
    "    prune_error = []\n",
    "    tree_error = []\n",
    "    for i in range(iterations):\n",
    "        data_train, data_val = partition(data, fraction)\n",
    "        tree = buildTree(data_train, m.attributes)\n",
    "        pruned_tree = complete_pruning(tree,data_val)\n",
    "        prune_error.append(check(pruned_tree, data_test))\n",
    "        tree_error.append(check(tree, data_test))\n",
    "\n",
    "    return np.mean(tree_error), np.mean(prune_error)\n",
    "\n",
    "\n",
    "tree_error_for_each_fraction = [[],[],[]]        #for each monk dataset\n",
    "prune_error_for_each_fraction = [[],[],[]] \n",
    "for i in range(len(the_dataset)):\n",
    "    for j in range(len(fraction)):\n",
    "        tree_error_mean, prune_error_mean = error(the_dataset[i], the_dataset_test[i], iterations, fraction[j])\n",
    "        tree_error_for_each_fraction[i].append(tree_error_mean)\n",
    "        prune_error_for_each_fraction[i].append(prune_error_mean)\n",
    "\n",
    "\n",
    "#MONK-1\n",
    "plt.plot(fraction, tree_error_for_each_fraction[0][:])\n",
    "plt.plot(fraction, prune_error_for_each_fraction[0][:])\n",
    "plt.legend(['Tree','Pruned tree'])\n",
    "plt.xlabel('Fraction')\n",
    "plt.ylabel('Accuracy')\n",
    "plt.title('Monk-1')\n",
    "plt.show()\n",
    "\n",
    "#MONK-3\n",
    "plt.plot(fraction, tree_error_for_each_fraction[2][:])\n",
    "plt.plot(fraction, prune_error_for_each_fraction[2][:])\n",
    "plt.legend(['Tree','Pruned tree'])\n",
    "plt.xlabel('Fraction')\n",
    "plt.ylabel('Accuracy')\n",
    "plt.title('Monk-3')\n",
    "plt.show()\n",
    "\n"
   ]
  },
  {
   "cell_type": "markdown",
   "metadata": {},
   "source": [
    "As the fraction increases, the classification accuracy of the tree increases, which was expected: the training dataset is larger.\n",
    "We can see the tradeoff between training and validation: the pruning curve increases and then decreases.\n",
    "Best fraction parameter: around 0.7 - 0.8\n",
    "For Monk-3, pruning has a better accuracy because it allows to remove de noise (5% of misclassification)\n"
   ]
  }
 ],
 "metadata": {
  "interpreter": {
   "hash": "398dc28c06ad810e77de546bbdfa897a6ee0b83e59a5207339dda01a7843e01d"
  },
  "kernelspec": {
   "display_name": "Python 3.7.3 64-bit ('base': conda)",
   "language": "python",
   "name": "python3"
  },
  "language_info": {
   "codemirror_mode": {
    "name": "ipython",
    "version": 3
   },
   "file_extension": ".py",
   "mimetype": "text/x-python",
   "name": "python",
   "nbconvert_exporter": "python",
   "pygments_lexer": "ipython3",
   "version": "3.7.3"
  },
  "orig_nbformat": 4
 },
 "nbformat": 4,
 "nbformat_minor": 2
}
