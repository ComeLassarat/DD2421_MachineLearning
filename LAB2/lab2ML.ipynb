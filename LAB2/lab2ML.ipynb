{
 "cells": [
  {
   "cell_type": "markdown",
   "metadata": {},
   "source": [
    "LAB2 MACHINE LEARNING"
   ]
  },
  {
   "cell_type": "code",
   "execution_count": 2,
   "metadata": {},
   "outputs": [],
   "source": [
    "from scipy.optimize import minimize\n",
    "import numpy as np , random , math\n",
    "import matplotlib . pyplot as plt"
   ]
  },
  {
   "cell_type": "code",
   "execution_count": 316,
   "metadata": {},
   "outputs": [
    {
     "data": {
      "image/png": "[encoded data removed]",
      "text/plain": [
       "<Figure size 432x288 with 1 Axes>"
      ]
     },
     "metadata": {
      "needs_background": "light"
     },
     "output_type": "display_data"
    }
   ],
   "source": [
    "# Data\n",
    "\n",
    "np.random.seed(100)\n",
    "random.seed(2)\n",
    "\n",
    "classA = np.concatenate((np.random.randn(20, 2) * 0.7 + [2.5, 0.5], np.random.randn(20, 2) * 0.7 + [-2.5, 0.5], np.random.randn(20, 2) * 0.7 + [0, -2.5],  np.random.randn(20, 2) * 0.7 + [0, 2.5]))\n",
    "#classA = np.random.randn(20, 2) * 0.5 + [0.0, 0.5]\n",
    "classB = np.random.randn(40, 2) * 0.7 + [0, 0]\n",
    "#classA = np.concatenate((np.random.randn(20, 2) * 0.3 + [-3.5, 1.5], np.random.randn(20, 2) * 0.3 + [0, 2.5]))\n",
    "\n",
    "\n",
    "\n",
    "#classA = np.array([[-1,0]])\n",
    "#classB = np.array([[1,0]])\n",
    "\n",
    "inputs = np.concatenate(( classA , classB )) \n",
    "targets = np.concatenate((np.ones(classA.shape[0]) , -np.ones(classB.shape[0])))\n",
    "\n",
    "N = inputs.shape[0] # Number of rows (samples)\n",
    "\n",
    "permute=list(range(N)) \n",
    "random.shuffle(permute) \n",
    "inputs = inputs[permute , :]\n",
    "targets = targets[permute]\n",
    "\n",
    "# Plotting\n",
    "\n",
    "plt.plot([p[0] for p in classA], [p[1] for p in classA],'b.') \n",
    "plt.plot([p[0] for p in classB], [p[1] for p in classB],'r.') \n",
    "\n",
    "plt.axis('equal') # Force same scale on both axes \n",
    "plt.savefig('svmplot.pdf') # Save a copy in a file \n",
    "plt.show() # Show the plot on the screen"
   ]
  },
  {
   "cell_type": "code",
   "execution_count": 321,
   "metadata": {},
   "outputs": [
    {
     "name": "stderr",
     "output_type": "stream",
     "text": [
      "/anaconda3/envs/venv/lib/python3.7/site-packages/scipy/optimize/optimize.py:283: RuntimeWarning: Values in x were outside bounds during a minimize step, clipping to bounds\n",
      "  \"minimize step, clipping to bounds\", RuntimeWarning)\n"
     ]
    },
    {
     "name": "stdout",
     "output_type": "stream",
     "text": [
      "True\n"
     ]
    },
    {
     "data": {
      "image/png": "[encoded data removed]",
      "text/plain": [
       "<Figure size 432x288 with 1 Axes>"
      ]
     },
     "metadata": {
      "needs_background": "light"
     },
     "output_type": "display_data"
    }
   ],
   "source": [
    "############### Kernel function ##############\n",
    "\n",
    "def kernel(x1,x2, type):\n",
    "\n",
    "    if type == 'linear':\n",
    "        return x1.T @ x2\n",
    "    \n",
    "    if type == 'PolynomialP2':\n",
    "        return ((x1.T @ x2) +1)**2\n",
    "    \n",
    "    if type == 'PolynomialP3':\n",
    "        return ((x1.T @ x2) +1)**3\n",
    "    \n",
    "    if type == 'PolynomialP4':\n",
    "        return ((x1.T @ x2) +1)**4\n",
    "    \n",
    "    if type == 'PolynomialP6':\n",
    "        return ((x1.T @ x2) +1)**6\n",
    "    \n",
    "    if type == 'RBF':\n",
    "        norm = np.linalg.norm(x1-x2)\n",
    "        sigma = 1.0\n",
    "        return np.exp(-(norm**2)/(2*sigma*sigma))\n",
    "\n",
    "\n",
    "\n",
    "############### Matrix P ##############\n",
    "\n",
    "def matrixP(targets, data, kernel_type):     # N = number of points\n",
    "    N = len(targets)\n",
    "    matrix = np.eye((N))\n",
    "    for i in range(N):\n",
    "        for j in range(N):\n",
    "            matrix[i,j]= targets[i]*targets[j]*kernel(data[i],data[j], kernel_type )\n",
    "    \n",
    "    return matrix\n",
    "\n",
    "\n",
    "################ Function objective ###############\n",
    "\n",
    "def objective(alpha):\n",
    "    return 0.5*np.dot(alpha.T, np.dot(P,alpha)) - np.sum(alpha)    #Formule OK\n",
    "\n",
    "\n",
    "################ Constraints ###############\n",
    "\n",
    "def zerofun(alpha):\n",
    "    return np.dot(alpha.T,targets)              #Formule OK\n",
    "\n",
    "\n",
    "################ Function minimize ###############\n",
    "\n",
    "def minimize_fct(objective, start, bounds, constraints):\n",
    "    return minimize(objective,start, bounds=bounds , constraints = constraints)\n",
    "\n",
    "\n",
    "\n",
    "# ------------------------------------------------------------------------------------------------------------------------------------\n",
    "\n",
    "################ Parameters ###############\n",
    "\n",
    "type = 'PolynomialP2'\n",
    "slack = True\n",
    "P = matrixP(targets,inputs,type)\n",
    "C = 0.01\n",
    "if slack :  \n",
    "    B = [(0, C) for b in range(N)]\n",
    "else:\n",
    "    B = [(0, None) for b in range(N)]\n",
    "XC ={'type':'eq', 'fun':zerofun}\n",
    "start = np.zeros(N)\n",
    "\n",
    "\n",
    "# ------------------------------------------------------------------------------------------------------------------------------------\n",
    "\n",
    "\n",
    "############### Extract the non-zero alpha values ##############\n",
    "\n",
    "res = minimize_fct(objective, start, B, XC)\n",
    "\n",
    "alphas = res['x']\n",
    "print(res['success'])\n",
    "non_zero_alphas = []\n",
    "\n",
    "for i in range(N):\n",
    "    if alphas[i] >=10**(-5):\n",
    "        non_zero_alphas.append([alphas[i], inputs[i], targets[i]])      #Formule OK\n",
    "\n",
    "\n",
    "############## Calculate the b value ##############\n",
    "\n",
    "if slack:\n",
    "    for i in range(len(non_zero_alphas)):\n",
    "        if non_zero_alphas[i][0]<C:\n",
    "            sv = non_zero_alphas[i][1]\n",
    "            b = - non_zero_alphas[i][2]\n",
    "            break\n",
    "else:\n",
    "    sv = non_zero_alphas[0][1]\n",
    "    b = - non_zero_alphas[0][2]\n",
    "\n",
    "\n",
    "\n",
    "for i in range(len(non_zero_alphas)):\n",
    "    b += non_zero_alphas[i][0]*non_zero_alphas[i][2]*kernel(sv,non_zero_alphas[i][1], type)\n",
    "\n",
    "\n",
    "############### Indicator function ##############\n",
    "\n",
    "def indicator(x,y):\n",
    "    result = -b\n",
    "    for i in range(len(non_zero_alphas)):\n",
    "        result += non_zero_alphas[i][0]*non_zero_alphas[i][2]*kernel(np.array([x,y]),non_zero_alphas[i][1], type)\n",
    "    return result\n",
    "\n",
    "\n",
    "\n",
    "############### Plotting ##############\n",
    "\n",
    "plt.plot([p[0] for p in classA], [p[1] for p in classA],'b.') \n",
    "plt.plot([p[0] for p in classB], [p[1] for p in classB],'r.') \n",
    "\n",
    "plt.axis('equal') # Force same scale on both axes \n",
    "plt.savefig('svmplot.pdf') # Save a copy in a file \n",
    "\n",
    "############### Boundary ##############\n",
    "\n",
    "xgrid = np.linspace(-5, 5) \n",
    "ygrid = np.linspace(-4, 4)\n",
    "\n",
    "grid = np.array([[indicator(x, y) for x in xgrid] for y in ygrid])\n",
    "plt.contour(xgrid, ygrid, grid, (-1.0,0.0,1.0), colors = ('red', 'black', 'blue'), linewidths = (1,3,1))\n",
    "plt.show()"
   ]
  },
  {
   "cell_type": "markdown",
   "metadata": {},
   "source": [
    "QUESTIONS"
   ]
  },
  {
   "cell_type": "code",
   "execution_count": 10,
   "metadata": {},
   "outputs": [],
   "source": [
    "def clustering(targets,inputs,type,start, B, XC):\n",
    "    P = matrixP(targets,inputs,type)\n",
    "    res = minimize_fct(objective, start, B, XC)\n",
    "    alphas = res['x']\n",
    "    non_zero_alphas = []\n",
    "\n",
    "    for i in range(N):\n",
    "        if alphas[i] >=10**(-5):\n",
    "            non_zero_alphas.append([alphas[i], inputs[i], targets[i]])      #Formule OK\n",
    "\n",
    "    # Calculate the b value\n",
    "\n",
    "    for i in range(len(non_zero_alphas)):\n",
    "        if non_zero_alphas[i][0]<C:\n",
    "            sv = non_zero_alphas[i][1]\n",
    "            b = - non_zero_alphas[i][2]\n",
    "            break\n",
    "\n",
    "    for i in range(len(non_zero_alphas)):\n",
    "        b += non_zero_alphas[i][0]*non_zero_alphas[i][2]*kernel(sv,non_zero_alphas[i][1], type)\n",
    "    \n",
    "    plt.plot([p[0] for p in classA], [p[1] for p in classA],'b.') \n",
    "    plt.plot([p[0] for p in classB], [p[1] for p in classB],'r.') \n",
    "\n",
    "    plt.axis('equal') # Force same scale on both axes \n",
    "    plt.savefig('svmplot.pdf') # Save a copy in a file \n",
    "\n",
    "    # Boundary\n",
    "\n",
    "    xgrid = np.linspace(-5, 5) \n",
    "    ygrid = np.linspace(-4, 4)\n",
    "\n",
    "    grid = np.array([[indicator(x, y) for x in xgrid] for y in ygrid])\n",
    "    plt.contour(xgrid, ygrid, grid, (-0.1,0.0,1.0), colors = ('red', 'black', 'blue'), linewidths = (1,3,1))\n",
    "    plt.show()\n",
    "\n",
    "\n",
    "def build_data(classA,classB):\n",
    "    inputs = np.concatenate(( classA , classB )) \n",
    "    targets = np.concatenate((np.ones(classA.shape[0]) , -np.ones(classB.shape[0])))\n",
    "\n",
    "    N = inputs.shape[0] # Number of rows (samples)\n",
    "\n",
    "    permute=list(range(N)) \n",
    "    random.shuffle(permute) \n",
    "    inputs = inputs[permute , :]\n",
    "    targets = targets[permute]\n",
    "\n",
    "    return inputs,targets"
   ]
  }
 ],
 "metadata": {
  "interpreter": {
   "hash": "82b195c79fe0ecc5cbd9ab78db8ddba5ec3174d00fa987150a47c6bbc8f18c19"
  },
  "kernelspec": {
   "display_name": "Python 3.7.11",
   "language": "python",
   "name": "python3"
  },
  "language_info": {
   "codemirror_mode": {
    "name": "ipython",
    "version": 3
   },
   "file_extension": ".py",
   "mimetype": "text/x-python",
   "name": "python",
   "nbconvert_exporter": "python",
   "pygments_lexer": "ipython3",
   "version": "3.7.11"
  },
  "orig_nbformat": 4
 },
 "nbformat": 4,
 "nbformat_minor": 2
}
